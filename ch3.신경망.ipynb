{
 "cells": [
  {
   "cell_type": "code",
   "execution_count": 5,
   "metadata": {},
   "outputs": [
    {
     "name": "stdout",
     "output_type": "stream",
     "text": [
      "(60000, 784)\n",
      "(60000,)\n",
      "(10000, 784)\n",
      "(10000,)\n"
     ]
    }
   ],
   "source": [
    "#3.6손글씨 숫자 인식\n",
    "#MNIST데이터셋 \n",
    "#dataset폴더 및 common폴더, 학습 폴더들 모두 작업 폴더에 복사\n",
    "import sys,os\n",
    "sys.path.append(os.pardir) #부모 디렉터리의 파일을 가져올 수 있도록 설정(여기선 데이셋의 MNIST.PY의 디렉토리)\n",
    "from dataset.mnist import load_mnist #즉 dataset폴더의 mnist에 load_mnist모듈을 쓰겠다.\n",
    "\n",
    "(x_train,t_train),(x_test,t_test)= load_mnist(flatten=True, normalize = False) #load_mnist()함수를 통해 mnist데이터를 가져옴 \n",
    "\n",
    "print(x_train.shape)#각 데이터의 형상을 출력\n",
    "print(t_train.shape)\n",
    "print(x_test.shape)\n",
    "print(t_test.shape)"
   ]
  },
  {
   "cell_type": "code",
   "execution_count": 9,
   "metadata": {},
   "outputs": [
    {
     "name": "stdout",
     "output_type": "stream",
     "text": [
      "5\n",
      "(784,)\n",
      "(28, 28)\n"
     ]
    }
   ],
   "source": [
    "import sys, os\n",
    "sys.path.append(os.pardir)  # 부모 디렉터리의 파일을 가져올 수 있도록 설정\n",
    "import numpy as np\n",
    "from dataset.mnist import load_mnist\n",
    "from PIL import Image\n",
    "import pickle\n",
    "\n",
    "\n",
    "def img_show(img): \n",
    "    pil_img = Image.fromarray(np.uint8(img))#image.fromarray() 함수는 넘파이로 저장된 이미지 데이터를 PIL용 데이터 객체로 변환하는 역할\n",
    "    pil_img.show()\n",
    "\n",
    "(x_train, t_train), (x_test, t_test) = load_mnist(flatten=True, normalize=False)#flatten=True로 설정하여 가져온 이미지는 1차원 넘파이 배열로 저장됨\n",
    "\n",
    "\n",
    "img = x_train[0]\n",
    "label = t_train[0]\n",
    "print(label)  # 5가 출력이됨\n",
    "\n",
    "print(img.shape)  # (784,)\n",
    "img = img.reshape(28, 28)  # 형상을 원래 이미지의 크기로 변형, 넘파이 배열의 형상을 바꿀수있다.(28x28로 바꿈)\n",
    "print(img.shape)  # (28, 28)\n",
    "\n",
    "img_show(img)"
   ]
  },
  {
   "cell_type": "code",
   "execution_count": 12,
   "metadata": {},
   "outputs": [
    {
     "name": "stdout",
     "output_type": "stream",
     "text": [
      "Accuracy : 0.9352\n"
     ]
    }
   ],
   "source": [
    "#신경망의 추론추리\n",
    "import sys, os\n",
    "sys.path.append(os.pardir)  # 부모 디렉터리의 파일을 가져올 수 있도록 설정\n",
    "import numpy as np\n",
    "import pickle\n",
    "from dataset.mnist import load_mnist\n",
    "from common.functions import sigmoid, softmax\n",
    "def get_data():\n",
    "    (x_train,t_train),(x_test,t_test) = load_mnist(normalize = True, flatten = True, one_hot_label=False)\n",
    "    return x_test,t_test\n",
    "def init_network():#이함수를 통해 pickle파일인 sample_weight.pkl에 저장된 학습된 가중치 매개변수를 읽어옴, 이파일에는 가중치와 편향매개변수가 딕셔너리로 저장되어있ㅇ므\n",
    "    with open(\"sample_weight.pkl\",\"rb\") as f:\n",
    "        network = pickle.load(f)\n",
    "    return network\n",
    "\n",
    "def predict(network,x):\n",
    "    W1,W2,W3 = network['W1'],network['W2'],network['W3']\n",
    "    b1,b2,b3 = network['b1'],network['b2'],network['b3']\n",
    "    \n",
    "    a1 = np.dot(x,W1)+b1\n",
    "    z1 = sigmoid(a1)\n",
    "    a2 = np.dot(z1,W2)+b2\n",
    "    z2 = sigmoid(a2)\n",
    "    a3 = np.dot(z2,W3)+b3\n",
    "    y = softmax(a3)\n",
    "    \n",
    "    return y\n",
    "\n",
    "#정확도를 구해보기\n",
    "x,t = get_data()\n",
    "network = init_network()\n",
    "\n",
    "accuracy_cnt = 0\n",
    "for i in range(len(x)):\n",
    "    y=predict(network,x[i])#x에 저장된 이미지 데이터를 1장씩 꺼내서 predict함수에 넣어 각각의 확률을 배열로 가져옴 \n",
    "    #그 배열중 가장 가능성이 높은 인덱스로 해당 x 사진은 분류된다.\n",
    "    p=np.argmax(y)#확률이 가장 높은 원소의 인덱스를 얻는다.\n",
    "    if p == t[i]:\n",
    "        accuracy_cnt +=1#이 변수에 해당 이미지를 정확하게 분류하면 +1 나중에 이걸 len(x)전체 이미지 개수로 나누어 정확도를 구함\n",
    "\n",
    "print(\"Accuracy : \"+str(float(accuracy_cnt)/len(x)))\n"
   ]
  },
  {
   "cell_type": "code",
   "execution_count": 16,
   "metadata": {},
   "outputs": [
    {
     "name": "stdout",
     "output_type": "stream",
     "text": [
      "(10000, 784)\n",
      "(784,)\n",
      "(784, 50)\n",
      "(50, 100)\n",
      "(100, 10)\n"
     ]
    }
   ],
   "source": [
    "#3.6.3배치처리\n",
    "x,_=get_data()\n",
    "network = init_network()\n",
    "W1,W2,W3 = network[\"W1\"],network[\"W2\"],network[\"W3\"]\n",
    "\n",
    "print(x.shape)#(10000,784) 입력 원소가 784인 이유는 28x28 이기 때문에 \n",
    "print(x[0].shape)#(784,)\n",
    "print(W1.shape)#(784,50)\n",
    "print(W2.shape)#(50,100)\n",
    "print(W3.shape)#(100,10) 최종결과로 원소가 10개로 분류\n"
   ]
  },
  {
   "cell_type": "code",
   "execution_count": 18,
   "metadata": {},
   "outputs": [
    {
     "name": "stdout",
     "output_type": "stream",
     "text": [
      "Accuracy:0.9352\n"
     ]
    }
   ],
   "source": [
    "x, t = get_data()\n",
    "network = init_network()\n",
    "#배치란 만약의 100장의 사진을 넣을시 입력층 : 784x100 --------------------> 출력층 : 10x100 이 된다.\n",
    "#이는 중간과정은 그대로이고 입력과 출력을 한 쌍 즉 배치로 만들어서 진행되기 떄문에 처리시간이 줄어들게 된다.\n",
    "#즉 x[0],y[0]에 0번째 이미지와 그 추론결과가 함꺼번에 수행\n",
    "batch_size = 100 # 배치 크기\n",
    "accuracy_cnt = 0\n",
    "for i in range(0, len(x), batch_size):#0~부터 x의 사이즈 만큼 batch_size=100간격으로 수행\n",
    "    x_batch = x[i:i+batch_size]#첫번째 0이 100개의 리스트, i2일땐 1이 100개인 리스트\n",
    "    y_batch = predict(network, x_batch)# 그에 따른 예측값 \n",
    "    p = np.argmax(y_batch, axis=1)#여기서 axis는 100x10의 배열중 1번째 차원을 구성하는 각 원소에서 최댓값의 인덱스를 찾도록한것\n",
    "    #인덱스가 0부터 시작하니 0번째 차원이 가장 처음 차원\n",
    "    accuracy_cnt += np.sum(p == t[i:i+batch_size])\n",
    "\n",
    "print(\"Accuracy:\" + str(float(accuracy_cnt) / len(x)))\n",
    "\n",
    "# 즉!!!입력데이터를 묶은 것을 배치라고 하며 추론 처리를 이 배치 단위로 진행시 결과를 빠르게 얻을 수 있다."
   ]
  },
  {
   "cell_type": "code",
   "execution_count": null,
   "metadata": {},
   "outputs": [],
   "source": []
  }
 ],
 "metadata": {
  "kernelspec": {
   "display_name": "Python 3",
   "language": "python",
   "name": "python3"
  },
  "language_info": {
   "codemirror_mode": {
    "name": "ipython",
    "version": 3
   },
   "file_extension": ".py",
   "mimetype": "text/x-python",
   "name": "python",
   "nbconvert_exporter": "python",
   "pygments_lexer": "ipython3",
   "version": "3.6.8"
  }
 },
 "nbformat": 4,
 "nbformat_minor": 2
}
